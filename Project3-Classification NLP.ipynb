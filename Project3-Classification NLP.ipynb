{
 "cells": [
  {
   "cell_type": "markdown",
   "id": "1c6cea52",
   "metadata": {},
   "source": [
    "<img src=\"http://imgur.com/1ZcRyrc.png\" style=\"float: left; margin: 20px; height: 55px\">\n",
    "\n",
    "# Project 3: Classification of  Subreddit Data with NLP \n",
    "\n",
    "\n",
    "## Objectives of the Project\n",
    "\n",
    "The project aimed to build classification models that used to  correctly classify the subreddit topics based on submitted subreddit with best accuracy.\n",
    "\n",
    "### Contents:\n",
    "- [Data Collection (Separate Notebooks)](#Data-Collection-(-Separate-Notebooks)\n",
    "    - [Import Packages](#Import-Packages)\n",
    " \n",
    "- [Cleaning and EDA](#Data-Loading-and-Cleaning)\n",
    "    - [Concatenating Data into Combined Data Frame](#Concatenating-Data-into-Combined-Data-Frame)\n",
    "    - [Clean Data and Removed Stopwords](#Clean-Data-and-Removed-Stopwords)\n",
    "    - [EDA of the Raw Data](#EDA-of-the-Raw-Data)\n",
    "    \n",
    "- [Preprocessing](#Preprocessing)\n",
    "    - [Train Test Split](#Train-Test-Split)\n",
    "    - [Vectorized the Cleaned Data](#Vectorized-the-Cleaned-Data)\n",
    "    \n",
    "- [Modeling and Evaluation](#Modeling-and-Evaluation)\n",
    "    - [Determining Baseline Score](#Determining-Baseline-Score)\n",
    "    - [Construct Grid Search  and Confusion Matrix for the Models](#PConstruct-Grid-Search-and-Confusion-Matrix-for-the-Models)\n",
    "    - [Evaluate Models](#Evaluate-Models)\n",
    "\n",
    "- [Best Performed Modeled](#Best-Performed-Modeled)\n",
    "    - [Summary Statistics](#Summary-Statistics)\n",
    "    - [Common words Count](#Common-words-Count)\n",
    "    - [Receiver Operating Characteristic(ROC)](#Receiver-Operating-Characteristic(ROC))\n",
    "    \n",
    "- [Conclusion and Recommendations](#Conclusion-and-Recommendations)"
   ]
  },
  {
   "cell_type": "markdown",
   "id": "786059ea",
   "metadata": {},
   "source": [
    "### Import Packages"
   ]
  },
  {
   "cell_type": "code",
   "execution_count": 1,
   "id": "09ac72e4",
   "metadata": {},
   "outputs": [],
   "source": [
    "# Load basic libraries\n",
    "import pandas as pd\n",
    "import numpy as np\n",
    "import requests\n",
    "import time\n",
    "import random\n",
    "\n",
    "# Load text processing and cleaning libraries\n",
    "import regex as re\n",
    "from nltk.tokenize import RegexpTokenizer\n",
    "from nltk.stem import WordNetLemmatizer\n",
    "from nltk.corpus import stopwords\n",
    "from pprint import pprint\n",
    "from collections import Counter\n",
    "from nltk.stem.porter import PorterStemmer\n",
    "from sklearn.feature_extraction.text import CountVectorizer, TfidfVectorizer\n",
    "\n",
    "# Load proprocessing/modeling/evaluation libraries\n",
    "from sklearn.model_selection import train_test_split, cross_val_score, GridSearchCV\n",
    "from sklearn.feature_extraction.text import CountVectorizer, TfidfTransformer, TfidfVectorizer\n",
    "from sklearn.linear_model import LogisticRegression\n",
    "from sklearn.pipeline import Pipeline\n",
    "from sklearn.metrics import confusion_matrix,roc_auc_score, roc_curve\n",
    "from sklearn.naive_bayes import MultinomialNB\n",
    "from sklearn.neighbors import KNeighborsClassifier\n",
    "from sklearn.ensemble import RandomForestClassifier, ExtraTreesClassifier, GradientBoostingClassifier, AdaBoostClassifier\n",
    "\n",
    "# Load visualization libraries\n",
    "import matplotlib.pyplot as plt\n",
    "import seaborn as sns\n",
    "from os import path\n"
   ]
  },
  {
   "cell_type": "markdown",
   "id": "d242a958",
   "metadata": {},
   "source": [
    "## Data Loading and Cleaning\n",
    "\n",
    "Publicly available submissions on Reddit data of subreddits r/datascience and r/math were loaded to the notebook for further cleaning the documents to make the text data ready for modeling."
   ]
  },
  {
   "cell_type": "code",
   "execution_count": 2,
   "id": "2cce6b64",
   "metadata": {},
   "outputs": [],
   "source": [
    "# Default storpwords, words vectorizer and customized stoped words\n",
    "stops = set(stopwords.words('english')) \n",
    "cvec = CountVectorizer(stop_words='english')\n",
    "\n",
    "customize_stops={'math','datascience','lt','z','remov','e','anyon',\n",
    "                 'u','would','ac','like','use','n','scienc','help','x','b','r',\n",
    "                 'gt','f','datar'}\n",
    "yy = customize_stops # assigned the customized word"
   ]
  },
  {
   "cell_type": "markdown",
   "id": "fd69ecab",
   "metadata": {},
   "source": [
    "---\n",
    "\n",
    "## Load the data\n",
    "\n",
    "- Get subreddit data from local drive."
   ]
  },
  {
   "cell_type": "code",
   "execution_count": 3,
   "id": "0aaa4b9c",
   "metadata": {},
   "outputs": [],
   "source": [
    "# Read the csv files of the subreddits math and datascience\n",
    "df_ds = pd.read_csv('data/datascience.csv')  # datascience subreddit\n",
    "df_math = pd.read_csv('data/math.csv') # math subreddit\n",
    "df = pd.concat([df_ds, df_math]) # Combined the two DataFrames"
   ]
  },
  {
   "cell_type": "code",
   "execution_count": 4,
   "id": "aa50855d",
   "metadata": {
    "scrolled": true
   },
   "outputs": [
    {
     "data": {
      "text/html": [
       "<div>\n",
       "<style scoped>\n",
       "    .dataframe tbody tr th:only-of-type {\n",
       "        vertical-align: middle;\n",
       "    }\n",
       "\n",
       "    .dataframe tbody tr th {\n",
       "        vertical-align: top;\n",
       "    }\n",
       "\n",
       "    .dataframe thead th {\n",
       "        text-align: right;\n",
       "    }\n",
       "</style>\n",
       "<table border=\"1\" class=\"dataframe\">\n",
       "  <thead>\n",
       "    <tr style=\"text-align: right;\">\n",
       "      <th></th>\n",
       "      <th>title</th>\n",
       "      <th>author</th>\n",
       "      <th>created_utc</th>\n",
       "      <th>selftext</th>\n",
       "      <th>subreddit</th>\n",
       "    </tr>\n",
       "  </thead>\n",
       "  <tbody>\n",
       "    <tr>\n",
       "      <th>0</th>\n",
       "      <td>The Online Data That's Being Deleted</td>\n",
       "      <td>arminham1967</td>\n",
       "      <td>1627232620</td>\n",
       "      <td>NaN</td>\n",
       "      <td>datascience</td>\n",
       "    </tr>\n",
       "    <tr>\n",
       "      <th>1</th>\n",
       "      <td>Data Engineering using Databricks course.</td>\n",
       "      <td>VamsiPenmetsa77</td>\n",
       "      <td>1627229122</td>\n",
       "      <td>[removed]</td>\n",
       "      <td>datascience</td>\n",
       "    </tr>\n",
       "    <tr>\n",
       "      <th>2</th>\n",
       "      <td>New Technology Opens the Gate to the Next Gene...</td>\n",
       "      <td>Perfect_Antelope_</td>\n",
       "      <td>1627228512</td>\n",
       "      <td>NaN</td>\n",
       "      <td>datascience</td>\n",
       "    </tr>\n",
       "  </tbody>\n",
       "</table>\n",
       "</div>"
      ],
      "text/plain": [
       "                                               title             author  \\\n",
       "0               The Online Data That's Being Deleted       arminham1967   \n",
       "1          Data Engineering using Databricks course.    VamsiPenmetsa77   \n",
       "2  New Technology Opens the Gate to the Next Gene...  Perfect_Antelope_   \n",
       "\n",
       "   created_utc   selftext    subreddit  \n",
       "0   1627232620        NaN  datascience  \n",
       "1   1627229122  [removed]  datascience  \n",
       "2   1627228512        NaN  datascience  "
      ]
     },
     "execution_count": 4,
     "metadata": {},
     "output_type": "execute_result"
    }
   ],
   "source": [
    "# Drop the unnamed columns\n",
    "df.drop(columns=['Unnamed: 0', 'Unnamed: 0.1'], inplace=True)\n",
    "df.head(3)"
   ]
  },
  {
   "cell_type": "code",
   "execution_count": 5,
   "id": "e1ef9241",
   "metadata": {
    "scrolled": true
   },
   "outputs": [
    {
     "name": "stdout",
     "output_type": "stream",
     "text": [
      "<class 'pandas.core.frame.DataFrame'>\n",
      "Int64Index: 18400 entries, 0 to 9199\n",
      "Data columns (total 5 columns):\n",
      " #   Column       Non-Null Count  Dtype \n",
      "---  ------       --------------  ----- \n",
      " 0   title        18400 non-null  object\n",
      " 1   author       18400 non-null  object\n",
      " 2   created_utc  18400 non-null  int64 \n",
      " 3   selftext     14107 non-null  object\n",
      " 4   subreddit    18400 non-null  object\n",
      "dtypes: int64(1), object(4)\n",
      "memory usage: 862.5+ KB\n"
     ]
    }
   ],
   "source": [
    "# To check data type and missed values\n",
    "df.info()"
   ]
  },
  {
   "cell_type": "code",
   "execution_count": 6,
   "id": "4a148748",
   "metadata": {},
   "outputs": [
    {
     "data": {
      "text/plain": [
       "selftext       4293\n",
       "title             0\n",
       "author            0\n",
       "created_utc       0\n",
       "subreddit         0\n",
       "dtype: int64"
      ]
     },
     "execution_count": 6,
     "metadata": {},
     "output_type": "execute_result"
    }
   ],
   "source": [
    "# look the missed values\n",
    "df.isnull().sum().sort_values(ascending=False).head(30)"
   ]
  },
  {
   "cell_type": "markdown",
   "id": "586fba75",
   "metadata": {},
   "source": [
    "#### Clean Scraped Dataset "
   ]
  },
  {
   "cell_type": "code",
   "execution_count": 7,
   "id": "1299393f",
   "metadata": {
    "scrolled": true
   },
   "outputs": [],
   "source": [
    "def utilityFuction(raw_text, customize_stops:{}):\n",
    "\n",
    "    text = re.sub(r'http[s]{0,1}://[^\\s]*', '', raw_text) # Strip urls and special char\n",
    "    letters = re.sub(\"[^a-zA-Z]\", \" \", text) # Remove non-letters\n",
    "    words = letters.lower().split() # Convert to lower case, split to individual words      \n",
    "    relevantWords = [w for w in words if w not in stops]  \n",
    "    stops.update(yy) # Add customize stopwords\n",
    "       \n",
    "    return (\" \".join(relevantWords))\n",
    "# Patally the function idea taken from lesson 5.02"
   ]
  },
  {
   "cell_type": "code",
   "execution_count": 8,
   "id": "fb110889",
   "metadata": {},
   "outputs": [
    {
     "name": "stdout",
     "output_type": "stream",
     "text": [
      "<class 'pandas.core.frame.DataFrame'>\n",
      "Int64Index: 18400 entries, 0 to 9199\n",
      "Data columns (total 5 columns):\n",
      " #   Column       Non-Null Count  Dtype \n",
      "---  ------       --------------  ----- \n",
      " 0   title        18400 non-null  object\n",
      " 1   author       18400 non-null  object\n",
      " 2   created_utc  18400 non-null  int64 \n",
      " 3   selftext     18400 non-null  object\n",
      " 4   subreddit    18400 non-null  object\n",
      "dtypes: int64(1), object(4)\n",
      "memory usage: 862.5+ KB\n"
     ]
    }
   ],
   "source": [
    "# Fill the missed values by space \n",
    "df = df.replace(np.nan, '', regex=True) # All dataframe\n",
    "df.info()"
   ]
  },
  {
   "cell_type": "code",
   "execution_count": 9,
   "id": "bebda096",
   "metadata": {},
   "outputs": [],
   "source": [
    "# Cleaning the main text in the columns using utility function\n",
    "df['title_clean']=df['title'].apply(lambda x:utilityFuction(x, yy)) # cleaned the text and put it to new column\n",
    "df['author_clean']=df['author'].apply(lambda x:utilityFuction(x, yy))\n",
    "df['selftext_clean']=df['selftext'].apply(lambda x:utilityFuction(x, yy) if x is not None else x)"
   ]
  },
  {
   "cell_type": "code",
   "execution_count": 10,
   "id": "73155bcb",
   "metadata": {},
   "outputs": [
    {
     "data": {
      "text/plain": [
       "Series([], Name: selftext, dtype: object)"
      ]
     },
     "execution_count": 10,
     "metadata": {},
     "output_type": "execute_result"
    }
   ],
   "source": [
    "# Check the missed values removed\n",
    "df[df['selftext'].isnull()]['selftext']"
   ]
  },
  {
   "cell_type": "code",
   "execution_count": 11,
   "id": "1053c8de",
   "metadata": {},
   "outputs": [
    {
     "data": {
      "text/html": [
       "<div>\n",
       "<style scoped>\n",
       "    .dataframe tbody tr th:only-of-type {\n",
       "        vertical-align: middle;\n",
       "    }\n",
       "\n",
       "    .dataframe tbody tr th {\n",
       "        vertical-align: top;\n",
       "    }\n",
       "\n",
       "    .dataframe thead th {\n",
       "        text-align: right;\n",
       "    }\n",
       "</style>\n",
       "<table border=\"1\" class=\"dataframe\">\n",
       "  <thead>\n",
       "    <tr style=\"text-align: right;\">\n",
       "      <th></th>\n",
       "      <th>title</th>\n",
       "      <th>author</th>\n",
       "      <th>created_utc</th>\n",
       "      <th>selftext</th>\n",
       "      <th>subreddit</th>\n",
       "      <th>title_clean</th>\n",
       "      <th>author_clean</th>\n",
       "      <th>selftext_clean</th>\n",
       "    </tr>\n",
       "  </thead>\n",
       "  <tbody>\n",
       "    <tr>\n",
       "      <th>0</th>\n",
       "      <td>The Online Data That's Being Deleted</td>\n",
       "      <td>arminham1967</td>\n",
       "      <td>1627232620</td>\n",
       "      <td></td>\n",
       "      <td>datascience</td>\n",
       "      <td>online data deleted</td>\n",
       "      <td>arminham</td>\n",
       "      <td></td>\n",
       "    </tr>\n",
       "    <tr>\n",
       "      <th>1</th>\n",
       "      <td>Data Engineering using Databricks course.</td>\n",
       "      <td>VamsiPenmetsa77</td>\n",
       "      <td>1627229122</td>\n",
       "      <td>[removed]</td>\n",
       "      <td>datascience</td>\n",
       "      <td>data engineering using databricks course</td>\n",
       "      <td>vamsipenmetsa</td>\n",
       "      <td>removed</td>\n",
       "    </tr>\n",
       "  </tbody>\n",
       "</table>\n",
       "</div>"
      ],
      "text/plain": [
       "                                       title           author  created_utc  \\\n",
       "0       The Online Data That's Being Deleted     arminham1967   1627232620   \n",
       "1  Data Engineering using Databricks course.  VamsiPenmetsa77   1627229122   \n",
       "\n",
       "    selftext    subreddit                               title_clean  \\\n",
       "0             datascience                       online data deleted   \n",
       "1  [removed]  datascience  data engineering using databricks course   \n",
       "\n",
       "    author_clean selftext_clean  \n",
       "0       arminham                 \n",
       "1  vamsipenmetsa        removed  "
      ]
     },
     "execution_count": 11,
     "metadata": {},
     "output_type": "execute_result"
    }
   ],
   "source": [
    "# Check the cleaned text in the cleaned columns\n",
    "df.head(2)"
   ]
  },
  {
   "cell_type": "code",
   "execution_count": 12,
   "id": "2083a8d2",
   "metadata": {},
   "outputs": [],
   "source": [
    "# Removed unclean columns\n",
    "df = df.drop(['title','author', 'selftext', 'created_utc'], axis = 1)"
   ]
  },
  {
   "cell_type": "code",
   "execution_count": 13,
   "id": "d3d5a66c",
   "metadata": {},
   "outputs": [
    {
     "data": {
      "text/html": [
       "<div>\n",
       "<style scoped>\n",
       "    .dataframe tbody tr th:only-of-type {\n",
       "        vertical-align: middle;\n",
       "    }\n",
       "\n",
       "    .dataframe tbody tr th {\n",
       "        vertical-align: top;\n",
       "    }\n",
       "\n",
       "    .dataframe thead th {\n",
       "        text-align: right;\n",
       "    }\n",
       "</style>\n",
       "<table border=\"1\" class=\"dataframe\">\n",
       "  <thead>\n",
       "    <tr style=\"text-align: right;\">\n",
       "      <th></th>\n",
       "      <th>subreddit</th>\n",
       "      <th>title_clean</th>\n",
       "      <th>author_clean</th>\n",
       "      <th>selftext_clean</th>\n",
       "    </tr>\n",
       "  </thead>\n",
       "  <tbody>\n",
       "    <tr>\n",
       "      <th>0</th>\n",
       "      <td>datascience</td>\n",
       "      <td>online data deleted</td>\n",
       "      <td>arminham</td>\n",
       "      <td></td>\n",
       "    </tr>\n",
       "    <tr>\n",
       "      <th>1</th>\n",
       "      <td>datascience</td>\n",
       "      <td>data engineering using databricks course</td>\n",
       "      <td>vamsipenmetsa</td>\n",
       "      <td>removed</td>\n",
       "    </tr>\n",
       "  </tbody>\n",
       "</table>\n",
       "</div>"
      ],
      "text/plain": [
       "     subreddit                               title_clean   author_clean  \\\n",
       "0  datascience                       online data deleted       arminham   \n",
       "1  datascience  data engineering using databricks course  vamsipenmetsa   \n",
       "\n",
       "  selftext_clean  \n",
       "0                 \n",
       "1        removed  "
      ]
     },
     "execution_count": 13,
     "metadata": {},
     "output_type": "execute_result"
    }
   ],
   "source": [
    "#Look the culumns removed from the DataFrames\n",
    "df.head(2)"
   ]
  },
  {
   "cell_type": "code",
   "execution_count": 14,
   "id": "d6550ab9",
   "metadata": {
    "scrolled": false
   },
   "outputs": [
    {
     "data": {
      "text/html": [
       "<div>\n",
       "<style scoped>\n",
       "    .dataframe tbody tr th:only-of-type {\n",
       "        vertical-align: middle;\n",
       "    }\n",
       "\n",
       "    .dataframe tbody tr th {\n",
       "        vertical-align: top;\n",
       "    }\n",
       "\n",
       "    .dataframe thead th {\n",
       "        text-align: right;\n",
       "    }\n",
       "</style>\n",
       "<table border=\"1\" class=\"dataframe\">\n",
       "  <thead>\n",
       "    <tr style=\"text-align: right;\">\n",
       "      <th></th>\n",
       "      <th>subreddit</th>\n",
       "      <th>title_clean</th>\n",
       "      <th>author_clean</th>\n",
       "      <th>selftext_clean</th>\n",
       "      <th>title_selftextCombin</th>\n",
       "    </tr>\n",
       "  </thead>\n",
       "  <tbody>\n",
       "    <tr>\n",
       "      <th>0</th>\n",
       "      <td>datascience</td>\n",
       "      <td>online data deleted</td>\n",
       "      <td>arminham</td>\n",
       "      <td></td>\n",
       "      <td>online data deleted</td>\n",
       "    </tr>\n",
       "    <tr>\n",
       "      <th>1</th>\n",
       "      <td>datascience</td>\n",
       "      <td>data engineering using databricks course</td>\n",
       "      <td>vamsipenmetsa</td>\n",
       "      <td>removed</td>\n",
       "      <td>removed data engineering using databricks course</td>\n",
       "    </tr>\n",
       "  </tbody>\n",
       "</table>\n",
       "</div>"
      ],
      "text/plain": [
       "     subreddit                               title_clean   author_clean  \\\n",
       "0  datascience                       online data deleted       arminham   \n",
       "1  datascience  data engineering using databricks course  vamsipenmetsa   \n",
       "\n",
       "  selftext_clean                              title_selftextCombin  \n",
       "0                                              online data deleted  \n",
       "1        removed  removed data engineering using databricks course  "
      ]
     },
     "execution_count": 14,
     "metadata": {},
     "output_type": "execute_result"
    }
   ],
   "source": [
    "# Combined the cleaned selftext and title columns to a column\n",
    "df['title_selftextCombin'] = df['selftext_clean']+' '+df['title_clean']\n",
    "df['title_selftextCombin'] = df['title_selftextCombin'].apply(lambda x: x.strip())\n",
    "df.head(2)"
   ]
  },
  {
   "cell_type": "code",
   "execution_count": 15,
   "id": "00bf0024",
   "metadata": {},
   "outputs": [
    {
     "data": {
      "text/plain": [
       "'online data deleted'"
      ]
     },
     "execution_count": 15,
     "metadata": {},
     "output_type": "execute_result"
    }
   ],
   "source": [
    "# words in the 'title_clean' column before joining\n",
    "df['title_clean'][0].values[0]"
   ]
  },
  {
   "cell_type": "code",
   "execution_count": 16,
   "id": "59d3b9f1",
   "metadata": {},
   "outputs": [],
   "source": [
    "# Function to count words\n",
    "def countWords(df):\n",
    "    \n",
    "    # Count Vectorize\n",
    "    cvec = CountVectorizer(stop_words = 'english')\n",
    "\n",
    "    # Transform the corpus\n",
    "    text = cvec.fit_transform(df['title'])\n",
    "\n",
    "    # Converts text to array form\n",
    "    text = pd.DataFrame(text.toarray(), columns= cvec.get_feature_names())\n",
    "\n",
    "    # See word counts\n",
    "    countWords = text.sum().sort_values(0, ascending=False)\n",
    "    \n",
    "    return countWords"
   ]
  },
  {
   "cell_type": "code",
   "execution_count": 17,
   "id": "beddbc44",
   "metadata": {},
   "outputs": [
    {
     "data": {
      "text/plain": [
       "data         4363\n",
       "science      2241\n",
       "learning      514\n",
       "job           454\n",
       "scientist     445\n",
       "             ... \n",
       "gestures        1\n",
       "peak            1\n",
       "gephy           1\n",
       "penalty         1\n",
       "𝟏𝟎𝟎             1\n",
       "Length: 7815, dtype: int64"
      ]
     },
     "execution_count": 17,
     "metadata": {},
     "output_type": "execute_result"
    }
   ],
   "source": [
    "# Calling the function to look the r/datascience  \n",
    "countWords(df_ds)"
   ]
  },
  {
   "cell_type": "code",
   "execution_count": 18,
   "id": "be777397",
   "metadata": {},
   "outputs": [
    {
     "data": {
      "text/plain": [
       "math            1419\n",
       "help            1199\n",
       "question         561\n",
       "need             454\n",
       "problem          366\n",
       "                ... \n",
       "impulse            1\n",
       "improvements       1\n",
       "improper           1\n",
       "impromptu          1\n",
       "li                 1\n",
       "Length: 8828, dtype: int64"
      ]
     },
     "execution_count": 18,
     "metadata": {},
     "output_type": "execute_result"
    }
   ],
   "source": [
    "#Calling the function to look the r/math \n",
    "countWords(df_math)"
   ]
  },
  {
   "cell_type": "markdown",
   "id": "98a97acc",
   "metadata": {},
   "source": [
    "### EDA of the Data"
   ]
  },
  {
   "cell_type": "code",
   "execution_count": 19,
   "id": "5d658bf9",
   "metadata": {
    "scrolled": true
   },
   "outputs": [
    {
     "data": {
      "image/png": "[encoded data removed]",
      "text/plain": [
       "<Figure size 432x288 with 1 Axes>"
      ]
     },
     "metadata": {
      "needs_background": "light"
     },
     "output_type": "display_data"
    }
   ],
   "source": [
    "# Graph for r/math Frequently used words\n",
    "math_wordcount= pd.DataFrame(countWords(df_math), columns=[\"Frequency\"])\n",
    "\n",
    "# Visualize\n",
    "math_top_15 = math_wordcount.head(15)\n",
    "math_top_15.sort_values('Frequency',ascending=True).plot(kind = \"barh\", color='orange')\n",
    "plt.title(\"Math Frequently used Words\")\n",
    "plt.xlabel(\"Frequency (Count)\")\n",
    "plt.ylabel(\"Commonly used Word\")\n",
    "plt.show()"
   ]
  },
  {
   "cell_type": "code",
   "execution_count": 20,
   "id": "c256e47d",
   "metadata": {},
   "outputs": [
    {
     "data": {
      "text/plain": [
       "Frequency    48231\n",
       "dtype: int64"
      ]
     },
     "execution_count": 20,
     "metadata": {},
     "output_type": "execute_result"
    }
   ],
   "source": [
    "#Total of frequented words\n",
    "math_wordcount.sum()"
   ]
  },
  {
   "cell_type": "code",
   "execution_count": 21,
   "id": "6e91469d",
   "metadata": {
    "scrolled": true
   },
   "outputs": [
    {
     "data": {
      "image/png": "[encoded data removed]",
      "text/plain": [
       "<Figure size 432x288 with 1 Axes>"
      ]
     },
     "metadata": {
      "needs_background": "light"
     },
     "output_type": "display_data"
    }
   ],
   "source": [
    "# Graph for r/datascience frequently used words  \n",
    "datascience_wordcount = pd.DataFrame(countWords(df_ds), columns=[\"Frequency\"])\n",
    "\n",
    "# Visualize\n",
    "datascience_top15 = datascience_wordcount.head(15)\n",
    "datascience_top15.sort_values('Frequency',ascending=True).plot(kind = \"barh\", color='green')\n",
    "plt.title(\"Data Science Frequently used Words\")\n",
    "plt.xlabel(\"Frequency (Count)\")\n",
    "plt.ylabel(\"Frequently used Words\")\n",
    "plt.show()"
   ]
  },
  {
   "cell_type": "code",
   "execution_count": 22,
   "id": "f33e31d8",
   "metadata": {
    "scrolled": true
   },
   "outputs": [
    {
     "data": {
      "text/plain": [
       "Frequency    55209\n",
       "dtype: int64"
      ]
     },
     "execution_count": 22,
     "metadata": {},
     "output_type": "execute_result"
    }
   ],
   "source": [
    "#Total of frequented words\n",
    "datascience_wordcount.sum()"
   ]
  },
  {
   "cell_type": "code",
   "execution_count": 23,
   "id": "8e54a08a",
   "metadata": {},
   "outputs": [
    {
     "data": {
      "text/plain": [
       "0                                                     \n",
       "0    ago purchased straighterline calculus course u...\n",
       "Name: selftext_clean, dtype: object"
      ]
     },
     "execution_count": 23,
     "metadata": {},
     "output_type": "execute_result"
    }
   ],
   "source": [
    "# words in the 'selftext_clean' column before joining\n",
    "df['selftext_clean'][0]"
   ]
  },
  {
   "cell_type": "code",
   "execution_count": 24,
   "id": "11c42159",
   "metadata": {},
   "outputs": [
    {
     "data": {
      "text/plain": [
       "'online data deleted'"
      ]
     },
     "execution_count": 24,
     "metadata": {},
     "output_type": "execute_result"
    }
   ],
   "source": [
    "# Content of the combined clean columns of 'title_clean' and 'selftext_clean'\n",
    "df['title_selftextCombin'][0].values[0]"
   ]
  },
  {
   "cell_type": "code",
   "execution_count": 25,
   "id": "59d85994",
   "metadata": {},
   "outputs": [
    {
     "data": {
      "text/plain": [
       "(18400, 5)"
      ]
     },
     "execution_count": 25,
     "metadata": {},
     "output_type": "execute_result"
    }
   ],
   "source": [
    "# SHape of the DataFrame\n",
    "df.shape"
   ]
  },
  {
   "cell_type": "code",
   "execution_count": 26,
   "id": "d6feb10e",
   "metadata": {},
   "outputs": [
    {
     "data": {
      "text/html": [
       "<div>\n",
       "<style scoped>\n",
       "    .dataframe tbody tr th:only-of-type {\n",
       "        vertical-align: middle;\n",
       "    }\n",
       "\n",
       "    .dataframe tbody tr th {\n",
       "        vertical-align: top;\n",
       "    }\n",
       "\n",
       "    .dataframe thead th {\n",
       "        text-align: right;\n",
       "    }\n",
       "</style>\n",
       "<table border=\"1\" class=\"dataframe\">\n",
       "  <thead>\n",
       "    <tr style=\"text-align: right;\">\n",
       "      <th></th>\n",
       "      <th>subreddit</th>\n",
       "      <th>title_clean</th>\n",
       "      <th>author_clean</th>\n",
       "      <th>selftext_clean</th>\n",
       "      <th>title_selftextCombin</th>\n",
       "    </tr>\n",
       "  </thead>\n",
       "  <tbody>\n",
       "    <tr>\n",
       "      <th>0</th>\n",
       "      <td>datascience</td>\n",
       "      <td>online data deleted</td>\n",
       "      <td>arminham</td>\n",
       "      <td></td>\n",
       "      <td>online data deleted</td>\n",
       "    </tr>\n",
       "    <tr>\n",
       "      <th>1</th>\n",
       "      <td>datascience</td>\n",
       "      <td>data engineering using databricks course</td>\n",
       "      <td>vamsipenmetsa</td>\n",
       "      <td>removed</td>\n",
       "      <td>removed data engineering using databricks course</td>\n",
       "    </tr>\n",
       "  </tbody>\n",
       "</table>\n",
       "</div>"
      ],
      "text/plain": [
       "     subreddit                               title_clean   author_clean  \\\n",
       "0  datascience                       online data deleted       arminham   \n",
       "1  datascience  data engineering using databricks course  vamsipenmetsa   \n",
       "\n",
       "  selftext_clean                              title_selftextCombin  \n",
       "0                                              online data deleted  \n",
       "1        removed  removed data engineering using databricks course  "
      ]
     },
     "execution_count": 26,
     "metadata": {},
     "output_type": "execute_result"
    }
   ],
   "source": [
    "# Check the first two rows of the DataFrames of math and datascience subreddit\n",
    "df.head(2)"
   ]
  },
  {
   "cell_type": "code",
   "execution_count": 27,
   "id": "7debbf72",
   "metadata": {
    "scrolled": false
   },
   "outputs": [
    {
     "data": {
      "text/html": [
       "<div>\n",
       "<style scoped>\n",
       "    .dataframe tbody tr th:only-of-type {\n",
       "        vertical-align: middle;\n",
       "    }\n",
       "\n",
       "    .dataframe tbody tr th {\n",
       "        vertical-align: top;\n",
       "    }\n",
       "\n",
       "    .dataframe thead th {\n",
       "        text-align: right;\n",
       "    }\n",
       "</style>\n",
       "<table border=\"1\" class=\"dataframe\">\n",
       "  <thead>\n",
       "    <tr style=\"text-align: right;\">\n",
       "      <th></th>\n",
       "      <th>subreddit</th>\n",
       "      <th>title_clean</th>\n",
       "      <th>author_clean</th>\n",
       "      <th>selftext_clean</th>\n",
       "      <th>title_selftextCombin</th>\n",
       "    </tr>\n",
       "  </thead>\n",
       "  <tbody>\n",
       "    <tr>\n",
       "      <th>9198</th>\n",
       "      <td>math</td>\n",
       "      <td>total loss calculus</td>\n",
       "      <td>sukesada</td>\n",
       "      <td>removed</td>\n",
       "      <td>removed total loss calculus</td>\n",
       "    </tr>\n",
       "    <tr>\n",
       "      <th>9199</th>\n",
       "      <td>math</td>\n",
       "      <td>hey th grader confused teaching area parallelo...</td>\n",
       "      <td>thephoenixmage</td>\n",
       "      <td></td>\n",
       "      <td>hey th grader confused teaching area parallelo...</td>\n",
       "    </tr>\n",
       "  </tbody>\n",
       "</table>\n",
       "</div>"
      ],
      "text/plain": [
       "     subreddit                                        title_clean  \\\n",
       "9198      math                                total loss calculus   \n",
       "9199      math  hey th grader confused teaching area parallelo...   \n",
       "\n",
       "        author_clean selftext_clean  \\\n",
       "9198        sukesada        removed   \n",
       "9199  thephoenixmage                  \n",
       "\n",
       "                                   title_selftextCombin  \n",
       "9198                        removed total loss calculus  \n",
       "9199  hey th grader confused teaching area parallelo...  "
      ]
     },
     "execution_count": 27,
     "metadata": {},
     "output_type": "execute_result"
    }
   ],
   "source": [
    "# Check the last two rows of the DataFrames of math and datascience subreddit\n",
    "df.tail(2)"
   ]
  },
  {
   "cell_type": "code",
   "execution_count": 28,
   "id": "e339970a",
   "metadata": {},
   "outputs": [
    {
     "data": {
      "text/html": [
       "<div>\n",
       "<style scoped>\n",
       "    .dataframe tbody tr th:only-of-type {\n",
       "        vertical-align: middle;\n",
       "    }\n",
       "\n",
       "    .dataframe tbody tr th {\n",
       "        vertical-align: top;\n",
       "    }\n",
       "\n",
       "    .dataframe thead th {\n",
       "        text-align: right;\n",
       "    }\n",
       "</style>\n",
       "<table border=\"1\" class=\"dataframe\">\n",
       "  <thead>\n",
       "    <tr style=\"text-align: right;\">\n",
       "      <th></th>\n",
       "      <th>subreddit</th>\n",
       "      <th>title_clean</th>\n",
       "      <th>author_clean</th>\n",
       "      <th>selftext_clean</th>\n",
       "      <th>title_selftextCombin</th>\n",
       "    </tr>\n",
       "  </thead>\n",
       "  <tbody>\n",
       "    <tr>\n",
       "      <th>count</th>\n",
       "      <td>18400</td>\n",
       "      <td>18400</td>\n",
       "      <td>18400</td>\n",
       "      <td>18400</td>\n",
       "      <td>18400</td>\n",
       "    </tr>\n",
       "    <tr>\n",
       "      <th>unique</th>\n",
       "      <td>2</td>\n",
       "      <td>16956</td>\n",
       "      <td>13149</td>\n",
       "      <td>8452</td>\n",
       "      <td>17409</td>\n",
       "    </tr>\n",
       "    <tr>\n",
       "      <th>top</th>\n",
       "      <td>datascience</td>\n",
       "      <td></td>\n",
       "      <td>deleted</td>\n",
       "      <td>removed</td>\n",
       "      <td></td>\n",
       "    </tr>\n",
       "    <tr>\n",
       "      <th>freq</th>\n",
       "      <td>9200</td>\n",
       "      <td>255</td>\n",
       "      <td>262</td>\n",
       "      <td>5191</td>\n",
       "      <td>143</td>\n",
       "    </tr>\n",
       "  </tbody>\n",
       "</table>\n",
       "</div>"
      ],
      "text/plain": [
       "          subreddit title_clean author_clean selftext_clean  \\\n",
       "count         18400       18400        18400          18400   \n",
       "unique            2       16956        13149           8452   \n",
       "top     datascience                  deleted        removed   \n",
       "freq           9200         255          262           5191   \n",
       "\n",
       "       title_selftextCombin  \n",
       "count                 18400  \n",
       "unique                17409  \n",
       "top                          \n",
       "freq                    143  "
      ]
     },
     "execution_count": 28,
     "metadata": {},
     "output_type": "execute_result"
    }
   ],
   "source": [
    "# Describe the combined and cleaned dataframe\n",
    "df.describe()"
   ]
  },
  {
   "cell_type": "markdown",
   "id": "0bcef2c5",
   "metadata": {},
   "source": [
    "### Preprocessing\n",
    "\n",
    "This part addressed calculating the baseline of the data and assigning the model variables. Train Test Split was carried to evaluate the vectorized data for the model evaluation."
   ]
  },
  {
   "cell_type": "code",
   "execution_count": 29,
   "id": "82c1d17b",
   "metadata": {},
   "outputs": [
    {
     "data": {
      "text/plain": [
       "datascience    0.5\n",
       "math           0.5\n",
       "Name: subreddit, dtype: float64"
      ]
     },
     "execution_count": 29,
     "metadata": {},
     "output_type": "execute_result"
    }
   ],
   "source": [
    "# Checking the baseline.  \n",
    "df['subreddit'].value_counts(normalize=True)"
   ]
  },
  {
   "cell_type": "code",
   "execution_count": 30,
   "id": "29df5a35",
   "metadata": {},
   "outputs": [],
   "source": [
    "# Assigning variables of the subreddit to make modeling\n",
    "X = df['title_selftextCombin']\n",
    "y = df['subreddit']"
   ]
  },
  {
   "cell_type": "markdown",
   "id": "7c4bc68b",
   "metadata": {},
   "source": [
    "-*Note*:\n",
    " \n",
    " - The baseline shows the sample is balanced to make  modeling. That means the predict belongs to the `math` subreddit as the order of the data. Therefore, the baseline accuracy is for both datascience and math is **50%**."
   ]
  },
  {
   "cell_type": "markdown",
   "id": "8ab56ce6",
   "metadata": {},
   "source": [
    "## Modeling and Evaluation"
   ]
  },
  {
   "cell_type": "markdown",
   "id": "993f81f6",
   "metadata": {},
   "source": [
    "Defined the different models' pipeline parameters for the evaluation of the cleaned and vectorized data."
   ]
  },
  {
   "cell_type": "code",
   "execution_count": 31,
   "id": "ead86570",
   "metadata": {},
   "outputs": [],
   "source": [
    "# Fuction to perform modelling. The code adapted from DSI-614 week4 to week6 classes\n",
    "# https://stackoverflow.com and # Hands on data science and Python machine learning by Frank Kane\n",
    "\n",
    "def classify(X, y, model='lr'):\n",
    "    \n",
    "    # Train Test Split\n",
    "    X_train, X_test, y_train, y_test = train_test_split(X, y, stratify = y, random_state = 42)\n",
    "    models = {\n",
    "        'lr': LogisticRegression(solver='lbfgs'),\n",
    "        'knn': KNeighborsClassifier(),\n",
    "        'nb': MultinomialNB(),\n",
    "        'rf': RandomForestClassifier(),\n",
    "        'et': ExtraTreesClassifier(),\n",
    "    }\n",
    "    \n",
    "    # Creating a pipeline with wordvectore and transforms text to feature vectors\n",
    "    # to use as input for the pipeline \n",
    "    pipeline = Pipeline([\n",
    "        ('cvec', CountVectorizer()),\n",
    "        ('tfidf', TfidfTransformer()),\n",
    "        (model, models[model])\n",
    "    ])\n",
    "    \n",
    "    \n",
    "    # Setting pipeline hyperparameters \n",
    "    parameters = {\n",
    "        'cvec__max_df': [0.3, 0.6], # Maximum number of words to include above between 30% &60%\n",
    "        'cvec__max_features': [2500, 5000, 10000], # Maximum number of features fit the given values\n",
    "        'cvec__ngram_range': [(1, 1), (1, 2),(1, 3)],  # Check unigrams or bigrams\n",
    "        'tfidf__use_idf': [True, False]\n",
    "    }\n",
    "    \n",
    "    # Additional parameters for the different models\n",
    "    if model == 'lr':\n",
    "        parameters.update({'lr__penalty': ('none','l2')})\n",
    "    elif model == 'knn':\n",
    "        parameters.update({\n",
    "            'knn__n_neighbors':[3,5,11],\n",
    "            'knn__weights':['uniform','distance'],\n",
    "        })\n",
    "    elif model == 'nb':\n",
    "        parameters.update({'nb__alpha':(1,2)})\n",
    "    \n",
    "    elif model == 'rf':\n",
    "        parameters.update({\n",
    "            'rf__n_estimators': [100,150],\n",
    "            'rf__max_depth': [1,2,None]\n",
    "        })\n",
    "    elif model == 'et':\n",
    "        parameters.update({\n",
    "            'et__n_estimators': [50,100,150]\n",
    "        })\n",
    "   \n",
    "\n",
    "    # Grid search evaluation  with some default values\n",
    "    grid_search = GridSearchCV(pipeline, parameters, n_jobs=-1, verbose=1, cv=5)\n",
    "    \n",
    "    print(\"Grid search Performance\")\n",
    "    print(\"Pipeline:\", [name for name, _ in pipeline.steps])\n",
    "    print(\"Parameters:\")\n",
    "   \n",
    "    grid_search.fit(X_train, y_train)\n",
    "    \n",
    "    print(\"Best score: %0.3f\" % grid_search.best_score_)\n",
    "    print(\"Best parameters set:\")\n",
    "    best_parameters = grid_search.best_estimator_.get_params()\n",
    "    for param_name in sorted(parameters.keys()):\n",
    "        print(\"\\t%s: %r\" % (param_name, best_parameters[param_name]))\n",
    "    \n",
    "    \n",
    "    # Model with best parameters in the train set\n",
    "    pipeline_final = Pipeline([\n",
    "        ('cvec', CountVectorizer()),\n",
    "        ('tfidf', TfidfTransformer()),\n",
    "        (model, models[model])\n",
    "    ])\n",
    "    pipeline_final.set_params(**grid_search.best_params_)\n",
    "    final_model = pipeline.fit(X_train,y_train)\n",
    "    print('Final model score')\n",
    "  \n",
    "\n",
    "    print(f'Train score: {final_model.score(X_train,y_train)}') \n",
    "    print(f'Test score: {final_model.score(X_test,y_test)}')\n",
    "    \n",
    "    predictions = final_model.predict(X_test)\n",
    "\n",
    "   # Confusion_matrix of calculated based on y_test and predicted value\n",
    "    \n",
    "    tn, fp, fn, tp = confusion_matrix(y_test, predictions).ravel()\n",
    "   \n",
    "    print(\"True Positives: %s\" % tp)\n",
    "    print(\"True Negatives: %s\" % tn)\n",
    "    print(\"False Positives: %s\" % fp)\n",
    "    print(\"False Negatives: %s\" % fn)\n",
    "    \n",
    "    \n",
    "    return X_test,y_test, final_model.predict(X_test)"
   ]
  },
  {
   "cell_type": "markdown",
   "id": "0dae60d8",
   "metadata": {},
   "source": [
    "- Evaluate the classify function that can be used as an input of all models function to find the best grid search hyperparameters and confusion matrix."
   ]
  },
  {
   "cell_type": "code",
   "execution_count": 32,
   "id": "ded5a6f5",
   "metadata": {},
   "outputs": [],
   "source": [
    "# To develope a link beteween the classify fuctions and all_models \n",
    "def all_models(X,y):\n",
    "    models = {\n",
    "    'lr': 'Logistic Regresson',\n",
    "    'knn': 'K Nearest Neighbours',\n",
    "    'nb': 'Naive Bayes',\n",
    "    'rf': 'Random Forest',\n",
    "    'et': 'Extra Trees',    \n",
    "    }\n",
    "\n",
    "    predModel= {m:None for m in models}\n",
    "    \n",
    "    for model in models:\n",
    "        print(f'----------------- {models[model]} ------------------')\n",
    "        predModel['text'],predModel['label'],predModel[model] = classify(X, y, model=model)\n",
    "      \n",
    "\n",
    "    cols = ['text','lr','knn','nb','rf','et','label']\n",
    "    model_df = pd.DataFrame(predModel)[cols]\n",
    "\n",
    "    return model_df\n",
    "\n",
    "# Adoped ideas were taken from the books:\n",
    "# Python for Data Analysis by McKinney\n",
    "# Hands on data science and Python machine learning by Frank Kane"
   ]
  },
  {
   "cell_type": "markdown",
   "id": "bdb5c99b",
   "metadata": {},
   "source": [
    "#### Evaluate Models \n",
    "- The evaluation used all possible outcomes of the models’  to screen the best performanced one. The models classification capacities were investigated  based on the score values without underfit and overfit natures of the train and test score accuracies as well as confusion matrix."
   ]
  },
  {
   "cell_type": "code",
   "execution_count": 33,
   "id": "ce7f4252",
   "metadata": {},
   "outputs": [
    {
     "name": "stdout",
     "output_type": "stream",
     "text": [
      "----------------- Logistic Regresson ------------------\n",
      "Grid search Performance\n",
      "Pipeline: ['cvec', 'tfidf', 'lr']\n",
      "Parameters:\n",
      "Fitting 5 folds for each of 72 candidates, totalling 360 fits\n",
      "Best score: 0.928\n",
      "Best parameters set:\n",
      "\tcvec__max_df: 0.6\n",
      "\tcvec__max_features: 5000\n",
      "\tcvec__ngram_range: (1, 3)\n",
      "\tlr__penalty: 'l2'\n",
      "\ttfidf__use_idf: True\n",
      "Final model score\n",
      "Train score: 0.9555072463768116\n",
      "Test score: 0.9323913043478261\n",
      "True Positives: 2227\n",
      "True Negatives: 2062\n",
      "False Positives: 238\n",
      "False Negatives: 73\n",
      "----------------- K Nearest Neighbours ------------------\n",
      "Grid search Performance\n",
      "Pipeline: ['cvec', 'tfidf', 'knn']\n",
      "Parameters:\n",
      "Fitting 5 folds for each of 216 candidates, totalling 1080 fits\n",
      "Best score: 0.726\n",
      "Best parameters set:\n",
      "\tcvec__max_df: 0.6\n",
      "\tcvec__max_features: 2500\n",
      "\tcvec__ngram_range: (1, 2)\n",
      "\tknn__n_neighbors: 3\n",
      "\tknn__weights: 'distance'\n",
      "\ttfidf__use_idf: False\n",
      "Final model score\n",
      "Train score: 0.9981884057971014\n",
      "Test score: 0.5641304347826087\n",
      "True Positives: 2275\n",
      "True Negatives: 320\n",
      "False Positives: 1980\n",
      "False Negatives: 25\n",
      "----------------- Naive Bayes ------------------\n",
      "Grid search Performance\n",
      "Pipeline: ['cvec', 'tfidf', 'nb']\n",
      "Parameters:\n",
      "Fitting 5 folds for each of 72 candidates, totalling 360 fits\n",
      "Best score: 0.917\n",
      "Best parameters set:\n",
      "\tcvec__max_df: 0.6\n",
      "\tcvec__max_features: 5000\n",
      "\tcvec__ngram_range: (1, 3)\n",
      "\tnb__alpha: 1\n",
      "\ttfidf__use_idf: False\n",
      "Final model score\n",
      "Train score: 0.9391304347826087\n",
      "Test score: 0.915\n",
      "True Positives: 1991\n",
      "True Negatives: 2218\n",
      "False Positives: 82\n",
      "False Negatives: 309\n",
      "----------------- Random Forest ------------------\n",
      "Grid search Performance\n",
      "Pipeline: ['cvec', 'tfidf', 'rf']\n",
      "Parameters:\n",
      "Fitting 5 folds for each of 216 candidates, totalling 1080 fits\n",
      "Best score: 0.922\n",
      "Best parameters set:\n",
      "\tcvec__max_df: 0.6\n",
      "\tcvec__max_features: 10000\n",
      "\tcvec__ngram_range: (1, 3)\n",
      "\trf__max_depth: None\n",
      "\trf__n_estimators: 150\n",
      "\ttfidf__use_idf: True\n",
      "Final model score\n",
      "Train score: 0.9981884057971014\n",
      "Test score: 0.9243478260869565\n",
      "True Positives: 2155\n",
      "True Negatives: 2097\n",
      "False Positives: 203\n",
      "False Negatives: 145\n",
      "----------------- Extra Trees ------------------\n",
      "Grid search Performance\n",
      "Pipeline: ['cvec', 'tfidf', 'et']\n",
      "Parameters:\n",
      "Fitting 5 folds for each of 108 candidates, totalling 540 fits\n",
      "Best score: 0.925\n",
      "Best parameters set:\n",
      "\tcvec__max_df: 0.6\n",
      "\tcvec__max_features: 5000\n",
      "\tcvec__ngram_range: (1, 3)\n",
      "\tet__n_estimators: 150\n",
      "\ttfidf__use_idf: True\n",
      "Final model score\n",
      "Train score: 0.9981884057971014\n",
      "Test score: 0.9269565217391305\n",
      "True Positives: 2118\n",
      "True Negatives: 2146\n",
      "False Positives: 154\n",
      "False Negatives: 182\n"
     ]
    }
   ],
   "source": [
    "df_val = all_models(X ,y)"
   ]
  },
  {
   "cell_type": "markdown",
   "id": "78daff4c",
   "metadata": {},
   "source": [
    "### Evaluation of  Models "
   ]
  },
  {
   "cell_type": "markdown",
   "id": "0e470df4",
   "metadata": {},
   "source": [
    " - Comparing results over a different models"
   ]
  },
  {
   "cell_type": "code",
   "execution_count": 34,
   "id": "1c9d11ed",
   "metadata": {},
   "outputs": [],
   "source": [
    "models = {\n",
    "    'lr': 'Logistic Regresson',\n",
    "    'knn': 'K Nearest Neighbours',\n",
    "    'nb': 'Naive Bayes',\n",
    "    'rf': 'Random Forest',\n",
    "    'et': 'Extra Trees',\n",
    "    }\n",
    "models_list = [m for m in models]"
   ]
  },
  {
   "cell_type": "code",
   "execution_count": 35,
   "id": "612fd98b",
   "metadata": {
    "scrolled": true
   },
   "outputs": [
    {
     "data": {
      "text/plain": [
       "{'lr': 0.9323913043478261,\n",
       " 'knn': 0.5641304347826087,\n",
       " 'nb': 0.915,\n",
       " 'rf': 0.9243478260869565,\n",
       " 'et': 0.9269565217391305}"
      ]
     },
     "execution_count": 35,
     "metadata": {},
     "output_type": "execute_result"
    }
   ],
   "source": [
    "# Accuracy of the models\n",
    "model_scores = {model: len(df_val[df_val[model] == df_val['label']]) \n",
    "                / len(df_val) for model in models}\n",
    "model_scores"
   ]
  },
  {
   "cell_type": "markdown",
   "id": "e32b4cfc",
   "metadata": {},
   "source": [
    "*Note*:\n",
    "- The Logistic Regression did better accuracy than the rest of all the models with closer values of Training and Testing, accuracy scores with 2.5% difference between the scores. On the contrary, the KNN performed very low accuracy with a high degree of overfitting about 43% difference between train and test scores accuracy. The Logistic Regression was used for the rest of the analysis to see how many values were correctly/incorrectly predicted using a confusion matrix and further explanations of the classification."
   ]
  },
  {
   "cell_type": "code",
   "execution_count": 36,
   "id": "27474c34",
   "metadata": {},
   "outputs": [
    {
     "data": {
      "text/html": [
       "<div>\n",
       "<style scoped>\n",
       "    .dataframe tbody tr th:only-of-type {\n",
       "        vertical-align: middle;\n",
       "    }\n",
       "\n",
       "    .dataframe tbody tr th {\n",
       "        vertical-align: top;\n",
       "    }\n",
       "\n",
       "    .dataframe thead th {\n",
       "        text-align: right;\n",
       "    }\n",
       "</style>\n",
       "<table border=\"1\" class=\"dataframe\">\n",
       "  <thead>\n",
       "    <tr style=\"text-align: right;\">\n",
       "      <th></th>\n",
       "      <th>text</th>\n",
       "      <th>lr</th>\n",
       "      <th>knn</th>\n",
       "      <th>nb</th>\n",
       "      <th>rf</th>\n",
       "      <th>et</th>\n",
       "      <th>label</th>\n",
       "    </tr>\n",
       "  </thead>\n",
       "  <tbody>\n",
       "    <tr>\n",
       "      <th>count</th>\n",
       "      <td>4600</td>\n",
       "      <td>4600</td>\n",
       "      <td>4600</td>\n",
       "      <td>4600</td>\n",
       "      <td>4600</td>\n",
       "      <td>4600</td>\n",
       "      <td>4600</td>\n",
       "    </tr>\n",
       "    <tr>\n",
       "      <th>unique</th>\n",
       "      <td>4462</td>\n",
       "      <td>2</td>\n",
       "      <td>2</td>\n",
       "      <td>2</td>\n",
       "      <td>2</td>\n",
       "      <td>2</td>\n",
       "      <td>2</td>\n",
       "    </tr>\n",
       "    <tr>\n",
       "      <th>top</th>\n",
       "      <td>removed</td>\n",
       "      <td>math</td>\n",
       "      <td>math</td>\n",
       "      <td>datascience</td>\n",
       "      <td>math</td>\n",
       "      <td>datascience</td>\n",
       "      <td>math</td>\n",
       "    </tr>\n",
       "    <tr>\n",
       "      <th>freq</th>\n",
       "      <td>24</td>\n",
       "      <td>2465</td>\n",
       "      <td>4255</td>\n",
       "      <td>2527</td>\n",
       "      <td>2358</td>\n",
       "      <td>2328</td>\n",
       "      <td>2300</td>\n",
       "    </tr>\n",
       "  </tbody>\n",
       "</table>\n",
       "</div>"
      ],
      "text/plain": [
       "           text    lr   knn           nb    rf           et label\n",
       "count      4600  4600  4600         4600  4600         4600  4600\n",
       "unique     4462     2     2            2     2            2     2\n",
       "top     removed  math  math  datascience  math  datascience  math\n",
       "freq         24  2465  4255         2527  2358         2328  2300"
      ]
     },
     "execution_count": 36,
     "metadata": {},
     "output_type": "execute_result"
    }
   ],
   "source": [
    "#Summary Statistics of modeled dataframe\n",
    "df_val.describe()"
   ]
  },
  {
   "cell_type": "markdown",
   "id": "5b251a78",
   "metadata": {},
   "source": [
    "## Misclassified words"
   ]
  },
  {
   "cell_type": "code",
   "execution_count": 37,
   "id": "752e852f",
   "metadata": {},
   "outputs": [],
   "source": [
    "## False Positive\n",
    "# Post that are suppose to be in r/datascience but classified as r/math\n",
    "ds_index_misclass = df_val[(df_val['lr'] == 'math') & (df_val['label'] == 'datascience')].index \n",
    "\n",
    "# False Negative\n",
    "# Post that are suppose to be in r/math but classified as in r/datasciience\n",
    "ma_index_misclass = df_val[(df_val['lr'] == 'datascience') & (df_val['label'] == 'math')].index \n"
   ]
  },
  {
   "cell_type": "code",
   "execution_count": 38,
   "id": "6943eca0",
   "metadata": {},
   "outputs": [
    {
     "data": {
      "text/plain": [
       "<AxesSubplot:ylabel='10 most common misclassified ds words'>"
      ]
     },
     "execution_count": 38,
     "metadata": {},
     "output_type": "execute_result"
    },
    {
     "data": {
      "image/png": "[encoded data removed]",
      "text/plain": [
       "<Figure size 432x288 with 1 Axes>"
      ]
     },
     "metadata": {
      "needs_background": "light"
     },
     "output_type": "display_data"
    }
   ],
   "source": [
    "pd.DataFrame(Counter(' '.join([df[df.index==i]['title_selftextCombin'].values[0] for i in ds_index_misclass])\n",
    "                     .split()).most_common()).head(15).set_index(0).rename(columns={1:'count'}).plot(kind='barh',color='red', xlabel='10 most common misclassified ds words')"
   ]
  },
  {
   "cell_type": "markdown",
   "id": "1400bc98",
   "metadata": {},
   "source": [
    "#### Post that are suppose to be in math but are classified as datascience"
   ]
  },
  {
   "cell_type": "code",
   "execution_count": 39,
   "id": "9f52e1d2",
   "metadata": {},
   "outputs": [
    {
     "data": {
      "text/plain": [
       "<AxesSubplot:ylabel='10 most common misclassified ma words'>"
      ]
     },
     "execution_count": 39,
     "metadata": {},
     "output_type": "execute_result"
    },
    {
     "data": {
      "image/png": "[encoded data removed]",
      "text/plain": [
       "<Figure size 432x288 with 1 Axes>"
      ]
     },
     "metadata": {
      "needs_background": "light"
     },
     "output_type": "display_data"
    }
   ],
   "source": [
    "pd.DataFrame(Counter(' '.join([df[df.index==i]['title_selftextCombin'].values[0] for i in ma_index_misclass])\n",
    "                     .split()).most_common()).head(15).set_index(0).rename(columns={1:'count'}).plot(kind='barh', xlabel='10 most common misclassified ma words')"
   ]
  },
  {
   "cell_type": "code",
   "execution_count": 40,
   "id": "221290d0",
   "metadata": {},
   "outputs": [
    {
     "name": "stdout",
     "output_type": "stream",
     "text": [
      "Area under the Receiver Operating Characteristic curve: 0.932391304347826\n"
     ]
    },
    {
     "data": {
      "image/png": "[encoded data removed]",
      "text/plain": [
       "<Figure size 432x288 with 1 Axes>"
      ]
     },
     "metadata": {
      "needs_background": "light"
     },
     "output_type": "display_data"
    }
   ],
   "source": [
    "# Area under the Receiver Operating Characteristic curve \n",
    "df_val['label_1']=np.where(df_val['label']=='math',1,0)\n",
    "df_val['lr_1']=np.where(df_val['lr']=='math',1,0)\n",
    "fpr, tpr, thresholds = roc_curve(df_val['label_1'], df_val['lr_1'])\n",
    "plt.plot(fpr, tpr, label=\"LR (AUC = 0.9324)\", linestyle=\"-\")\n",
    "plt.title('ROC curve')\n",
    "plt.xlabel('False Positive Rate')\n",
    "plt.ylabel('True Positive Rate')\n",
    "print('Area under the Receiver Operating Characteristic curve:', \n",
    "      roc_auc_score(df_val['label_1'], df_val['lr_1']))\n",
    "# add a legend\n",
    "plt.legend();"
   ]
  },
  {
   "cell_type": "markdown",
   "id": "206054d4",
   "metadata": {},
   "source": [
    " *Note*:\n",
    "- The AUC of logistic regression shows 93% performance in distinguishing the classified subreddits correctively under their classes. "
   ]
  },
  {
   "cell_type": "markdown",
   "id": "2829d0cb",
   "metadata": {},
   "source": [
    "## Conclusion and Recommendations\n"
   ]
  },
  {
   "cell_type": "markdown",
   "id": "c66a5c55",
   "metadata": {},
   "source": [
    "Different models were used to evaluate the best classification of the subreddit math and data science with a baseline accuracy of 50%. All the model results performed at least 40% greater than the baseline with accuracy values of above 91%, except KNN which performed with lower accuracy of about 56%. The results demonstrated a strong ability to classify more than  4 in 5 posts into the correct subreddit. However, the clear winner was the logistic regression(LR) model, which was able to correctly classify 4 in 5 posts. Therefore, the results suggested to Reddit administrators to use the LR model to help them to classify the posts under their subreddit.  The second-best performing model is ExtraTreesClassifier with little overfitting behaviour. Naive Bayes model with a data size of 26000 having accuracy values of 92% with little overfitting about 2.56% difference of the scores and lower values of sensitivity (0.88) to predict maths from the actual. In conclusion, the Reddit administrator needs to be aware of some misclassified categories of the subreddits. The company may need to use other alternative methods to control such misclassified posts since the nature of the posts are very dynamic based on time and the situation to create wrong classification."
   ]
  }
 ],
 "metadata": {
  "kernelspec": {
   "display_name": "Python 3",
   "language": "python",
   "name": "python3"
  },
  "language_info": {
   "codemirror_mode": {
    "name": "ipython",
    "version": 3
   },
   "file_extension": ".py",
   "mimetype": "text/x-python",
   "name": "python",
   "nbconvert_exporter": "python",
   "pygments_lexer": "ipython3",
   "version": "3.8.8"
  }
 },
 "nbformat": 4,
 "nbformat_minor": 5
}
